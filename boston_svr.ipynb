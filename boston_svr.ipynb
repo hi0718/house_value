{
  "nbformat": 4,
  "nbformat_minor": 0,
  "metadata": {
    "colab": {
      "name": "boston_svr.ipynb",
      "provenance": [],
      "private_outputs": true,
      "collapsed_sections": []
    },
    "kernelspec": {
      "name": "python3",
      "display_name": "Python 3"
    }
  },
  "cells": [
    {
      "cell_type": "code",
      "metadata": {
        "id": "QSTzt-jNO7k7",
        "colab_type": "code",
        "colab": {}
      },
      "source": [
        "%matplotlib inline\n",
        "import matplotlib.pyplot as plt\n",
        "import numpy as np\n",
        "from sklearn.linear_model import LinearRegression\n",
        "from sklearn.svm import SVR\n",
        "from sklearn.preprocessing import StandardScaler\n",
        "from sklearn.model_selection import train_test_split\n",
        "from sklearn.metrics import mean_squared_error\n",
        "from sklearn.datasets import load_boston"
      ],
      "execution_count": 0,
      "outputs": []
    },
    {
      "cell_type": "code",
      "metadata": {
        "id": "Qh87qZASJ0Fi",
        "colab_type": "code",
        "colab": {}
      },
      "source": [
        "boston = load_boston()\n",
        "# 特徴量に平均部屋数(RM)\n",
        "X = boston.data[:20,[5]]\n",
        "# 正解に住宅価格(MDEV)\n",
        "y = boston.target[:20]\n",
        "\n",
        "X_train, X_test, y_train, y_test = train_test_split(X, y, test_size=0.2, random_state=2)\n",
        "print('X_train shape：',X_train.shape,' y_train shape：',y_train.shape,' X_test shape：',X_test.shape,' y_testv：',y_test.shape)"
      ],
      "execution_count": 0,
      "outputs": []
    },
    {
      "cell_type": "code",
      "metadata": {
        "id": "Jd57UXj1aTeO",
        "colab_type": "code",
        "colab": {}
      },
      "source": [
        "# 標準化\n",
        "sc = StandardScaler()\n",
        "X_train_std = sc.fit_transform(X_train)\n",
        "X_test_std = sc.transform(X_test)"
      ],
      "execution_count": 0,
      "outputs": []
    },
    {
      "cell_type": "code",
      "metadata": {
        "id": "9HbBDsKLK1Q-",
        "colab_type": "code",
        "colab": {}
      },
      "source": [
        "# LinearRegressionとSVRをモデルを作成\n",
        "model = LinearRegression()\n",
        "model2 = SVR(kernel='linear', C=10000.0, epsilon=4.0)\n",
        "\n",
        "model.fit(X_train_std, y_train)\n",
        "model2.fit(X_train_std, y_train)"
      ],
      "execution_count": 0,
      "outputs": []
    },
    {
      "cell_type": "code",
      "metadata": {
        "id": "dLmDhSuCLHjf",
        "colab_type": "code",
        "colab": {}
      },
      "source": [
        "plt.figure(figsize=(8,4)) \n",
        "\n",
        "# 訓練データの最小値から最大値まで0.1刻みのX_pltを作成\n",
        "X_plt = np.arange(X_train_std.min(), X_train_std.max(), 0.1)[:, np.newaxis]\n",
        "# 線形回帰のプロット\n",
        "y_plt_pred = model.predict(X_plt)\n",
        "# SVRのプロット\n",
        "y_plt_pred2 = model2.predict(X_plt)\n",
        "\n",
        "# 部屋数と住宅価格の散布図とプロット\n",
        "plt.scatter(X_train_std, y_train, color='blue', label='data')\n",
        "plt.plot(X_plt, y_plt_pred, color='lime', linestyle='-', label='LinearRegression')\n",
        "plt.plot(X_plt, y_plt_pred2 ,color='red', linestyle='-', label='SVR')\n",
        "plt.plot(X_plt, y_plt_pred2 + model2.epsilon, color='red', linestyle=':', label='margin')\n",
        "plt.plot(X_plt, y_plt_pred2 - model2.epsilon, color='red', linestyle=':')\n",
        "plt.ylabel('Price in $1000s [MEDV]')\n",
        "plt.xlabel('Average number of rooms [RM]')\n",
        "plt.title('Boston house-prices')\n",
        "plt.legend(loc='lower right')\n",
        "\n",
        "plt.show()"
      ],
      "execution_count": 0,
      "outputs": []
    },
    {
      "cell_type": "code",
      "metadata": {
        "id": "7u6fUAJ6GuQE",
        "colab_type": "code",
        "colab": {}
      },
      "source": [
        "# SVの特徴量X\n",
        "model2.support_vectors_"
      ],
      "execution_count": 0,
      "outputs": []
    },
    {
      "cell_type": "code",
      "metadata": {
        "id": "b2NCb6_3HOUK",
        "colab_type": "code",
        "colab": {}
      },
      "source": [
        "# SVの特徴量Xのインデックス\n",
        "model2.support_"
      ],
      "execution_count": 0,
      "outputs": []
    },
    {
      "cell_type": "code",
      "metadata": {
        "id": "WXuNTY_xK6Q0",
        "colab_type": "code",
        "colab": {}
      },
      "source": [
        "y_train_pred = model.predict(X_train_std)\n",
        "y_test_pred = model.predict(X_test_std)\n",
        "\n",
        "print('MSE train: %.2f, test: %.2f' % (\n",
        "        mean_squared_error(y_train, y_train_pred),\n",
        "        mean_squared_error(y_test, y_test_pred)))"
      ],
      "execution_count": 0,
      "outputs": []
    },
    {
      "cell_type": "code",
      "metadata": {
        "id": "M_pIHdEZMaNL",
        "colab_type": "code",
        "colab": {}
      },
      "source": [
        "y_train_pred2 = model2.predict(X_train_std)\n",
        "y_test_pred2 = model2.predict(X_test_std)\n",
        "\n",
        "print('MSE train: %.2f, test: %.2f' % (\n",
        "        mean_squared_error(y_train, y_train_pred2),\n",
        "        mean_squared_error(y_test, y_test_pred2)))"
      ],
      "execution_count": 0,
      "outputs": []
    },
    {
      "cell_type": "code",
      "metadata": {
        "id": "7fd2JS21NoFb",
        "colab_type": "code",
        "colab": {}
      },
      "source": [
        ""
      ],
      "execution_count": 0,
      "outputs": []
    }
  ]
}