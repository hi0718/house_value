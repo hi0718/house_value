{
  "nbformat": 4,
  "nbformat_minor": 0,
  "metadata": {
    "colab": {
      "name": "boston_regularization.ipynb",
      "provenance": [],
      "private_outputs": true,
      "collapsed_sections": []
    },
    "kernelspec": {
      "name": "python3",
      "display_name": "Python 3"
    },
    "accelerator": "GPU"
  },
  "cells": [
    {
      "cell_type": "code",
      "metadata": {
        "id": "ZitUFNOBPzLe",
        "colab_type": "code",
        "colab": {}
      },
      "source": [
        "%matplotlib inline\n",
        "import matplotlib.pyplot as plt\n",
        "import numpy as np\n",
        "import pandas as pd\n",
        "from sklearn.linear_model import LinearRegression\n",
        "from sklearn.linear_model import Lasso\n",
        "from sklearn.linear_model import ElasticNet\n",
        "from sklearn.preprocessing import StandardScaler\n",
        "from sklearn.preprocessing import PolynomialFeatures\n",
        "from sklearn.model_selection import train_test_split\n",
        "from sklearn.metrics import mean_squared_error"
      ],
      "execution_count": 0,
      "outputs": []
    },
    {
      "cell_type": "code",
      "metadata": {
        "id": "2QUD1tZQP3VS",
        "colab_type": "code",
        "colab": {}
      },
      "source": [
        "df=pd.read_csv('https://archive.ics.uci.edu/ml/machine-learning-databases/housing/housing.data', header=None, sep='\\s+')\n",
        "\n",
        "df.columns=['CRIM','ZN', 'INDUS', 'CHAS', 'NOX', 'RM', 'AGE', 'DIS', 'RAD', 'TAX', 'PTRATIO', 'B', 'LSTAT', 'MEDV']\n",
        "print('df shape', df.shape)"
      ],
      "execution_count": 0,
      "outputs": []
    },
    {
      "cell_type": "code",
      "metadata": {
        "id": "6wzaYmCKP9ek",
        "colab_type": "code",
        "colab": {}
      },
      "source": [
        "X=df.iloc[:, 0:13].values\n",
        "# 正解に住宅価格(MDEV)\n",
        "y = df['MEDV'].values\n",
        "X_train, X_test, y_train, y_test = train_test_split(X, y, test_size=0.2, random_state=0)\n",
        "print('X_train shape：',X_train.shape,' y_train shape：',y_train.shape,' X_test shape：',X_test.shape,' y_test shape：',y_test.shape)"
      ],
      "execution_count": 0,
      "outputs": []
    },
    {
      "cell_type": "code",
      "metadata": {
        "id": "teDG-9Hhfz8x",
        "colab_type": "code",
        "colab": {}
      },
      "source": [
        "# 特徴量を2次多項式に変換\n",
        "POLY = PolynomialFeatures(degree=2, include_bias = False)\n",
        "\n",
        "X_train_pol = POLY.fit_transform(X_train)\n",
        "X_test_pol = POLY.transform(X_test)\n",
        "X_train_pol.shape, X_test_pol.shape"
      ],
      "execution_count": 0,
      "outputs": []
    },
    {
      "cell_type": "code",
      "metadata": {
        "id": "DudJbA-IQF9R",
        "colab_type": "code",
        "colab": {}
      },
      "source": [
        "# 標準化\n",
        "sc = StandardScaler()\n",
        "X_train_std = sc.fit_transform(X_train_pol)\n",
        "X_test_std = sc.transform(X_test_pol)"
      ],
      "execution_count": 0,
      "outputs": []
    },
    {
      "cell_type": "code",
      "metadata": {
        "id": "kUrgMsUBHXPn",
        "colab_type": "code",
        "colab": {}
      },
      "source": [
        "# 正則化無しとL1正則化のモデルを作成\n",
        "model = LinearRegression()\n",
        "model2 = Lasso(alpha=0.1)\n",
        "\n",
        "model.fit(X_train_std, y_train)\n",
        "model2.fit(X_train_std, y_train)"
      ],
      "execution_count": 0,
      "outputs": []
    },
    {
      "cell_type": "code",
      "metadata": {
        "id": "ESFuC5HZQfCn",
        "colab_type": "code",
        "colab": {}
      },
      "source": [
        "# 正則化無しの傾きと切片\n",
        "print(model.intercept_) \n",
        "print(model.coef_.shape)\n",
        "print(model.coef_)"
      ],
      "execution_count": 0,
      "outputs": []
    },
    {
      "cell_type": "code",
      "metadata": {
        "id": "pm5JOgdxhRjD",
        "colab_type": "code",
        "colab": {}
      },
      "source": [
        "# L1正則化の傾きと切片\n",
        "print(model2.intercept_) \n",
        "print(model2.coef_.shape)\n",
        "print(model2.coef_)"
      ],
      "execution_count": 0,
      "outputs": []
    },
    {
      "cell_type": "code",
      "metadata": {
        "id": "p3ypSlIKKzmn",
        "colab_type": "code",
        "colab": {}
      },
      "source": [
        "# 正則化無しのMSE\n",
        "y_train_pred = model.predict(X_train_std)\n",
        "y_test_pred = model.predict(X_test_std)\n",
        "\n",
        "print('MSE train: %.2f, test: %.2f' % (\n",
        "        mean_squared_error(y_train, y_train_pred),\n",
        "        mean_squared_error(y_test, y_test_pred)))"
      ],
      "execution_count": 0,
      "outputs": []
    },
    {
      "cell_type": "code",
      "metadata": {
        "id": "MXhPgE3mK3pm",
        "colab_type": "code",
        "colab": {}
      },
      "source": [
        "# L1正則化有りのMSE\n",
        "y_train_pred = model2.predict(X_train_std)\n",
        "y_test_pred = model2.predict(X_test_std)\n",
        "\n",
        "print('MSE train: %.2f, test: %.2f' % (\n",
        "        mean_squared_error(y_train, y_train_pred),\n",
        "        mean_squared_error(y_test, y_test_pred)))"
      ],
      "execution_count": 0,
      "outputs": []
    },
    {
      "cell_type": "code",
      "metadata": {
        "id": "n02ggGlBioDX",
        "colab_type": "code",
        "colab": {}
      },
      "source": [
        "# L1+L2正則化のモデルを作成\n",
        "model3 = ElasticNet(alpha=0.1, l1_ratio=0.6)\n",
        "\n",
        "# モデルの訓練\n",
        "model3.fit(X_train_std, y_train)"
      ],
      "execution_count": 0,
      "outputs": []
    },
    {
      "cell_type": "code",
      "metadata": {
        "id": "ys1tIAOujI7s",
        "colab_type": "code",
        "colab": {}
      },
      "source": [
        "# L1+L2正則化の傾きと切片\n",
        "print(model3.intercept_) \n",
        "print(model3.coef_.shape)\n",
        "print(model3.coef_)"
      ],
      "execution_count": 0,
      "outputs": []
    },
    {
      "cell_type": "code",
      "metadata": {
        "id": "arSag0TgRrxw",
        "colab_type": "code",
        "colab": {}
      },
      "source": [
        "# L1+L2正則化有りのMSE\n",
        "y_train_pred = model3.predict(X_train_std)\n",
        "y_test_pred = model3.predict(X_test_std)\n",
        "\n",
        "print('MSE train: %.2f, test: %.2f' % (\n",
        "        mean_squared_error(y_train, y_train_pred),\n",
        "        mean_squared_error(y_test, y_test_pred)))"
      ],
      "execution_count": 0,
      "outputs": []
    },
    {
      "cell_type": "code",
      "metadata": {
        "id": "Mwh6u3vGjqVa",
        "colab_type": "code",
        "colab": {}
      },
      "source": [
        ""
      ],
      "execution_count": 0,
      "outputs": []
    }
  ]
}