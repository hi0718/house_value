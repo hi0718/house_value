{
  "nbformat": 4,
  "nbformat_minor": 0,
  "metadata": {
    "colab": {
      "name": "boston_linearregression.ipynb",
      "provenance": [],
      "private_outputs": true,
      "collapsed_sections": []
    },
    "kernelspec": {
      "name": "python3",
      "display_name": "Python 3"
    }
  },
  "cells": [
    {
      "cell_type": "code",
      "metadata": {
        "id": "H3ZPVmgmMGHg",
        "colab_type": "code",
        "colab": {}
      },
      "source": [
        "%matplotlib inline\n",
        "import matplotlib.pyplot as plt\n",
        "import numpy as np\n",
        "import pandas as pd\n",
        "from sklearn.linear_model import LinearRegression\n",
        "from sklearn.preprocessing import StandardScaler\n",
        "from sklearn.model_selection import train_test_split\n",
        "from sklearn.metrics import mean_squared_error"
      ],
      "execution_count": 0,
      "outputs": []
    },
    {
      "cell_type": "code",
      "metadata": {
        "id": "tSHHtULoemB-",
        "colab_type": "code",
        "colab": {}
      },
      "source": [
        "df=pd.read_csv('https://archive.ics.uci.edu/ml/machine-learning-databases/housing/housing.data', header=None, sep='\\s+')\n",
        "df.columns=['CRIM','ZN', 'INDUS', 'CHAS', 'NOX', 'RM', 'AGE', 'DIS', 'RAD', 'TAX', 'PTRATIO', 'B', 'LSTAT', 'MEDV']\n",
        "pd.DataFrame(df.head())"
      ],
      "execution_count": 0,
      "outputs": []
    },
    {
      "cell_type": "code",
      "metadata": {
        "id": "IGGjH0K7MRNn",
        "colab_type": "code",
        "colab": {}
      },
      "source": [
        "df.info"
      ],
      "execution_count": 0,
      "outputs": []
    },
    {
      "cell_type": "code",
      "metadata": {
        "id": "CHAat1zur8J4",
        "colab_type": "code",
        "colab": {}
      },
      "source": [
        "X=df.iloc[:, 0:13].values\n",
        "# 正解に住宅価格(MDEV)\n",
        "y = df['MEDV'].values\n",
        "X[:3], y[:3]"
      ],
      "execution_count": 0,
      "outputs": []
    },
    {
      "cell_type": "code",
      "metadata": {
        "id": "EXgJozcT8Da2",
        "colab_type": "code",
        "colab": {}
      },
      "source": [
        "#from sklearn.datasets import load_boston\n",
        "#boston = load_boston()\n",
        "#X = boston.data\n",
        "#y = boston.target\n",
        "#X[:3], y[:3]"
      ],
      "execution_count": 0,
      "outputs": []
    },
    {
      "cell_type": "code",
      "metadata": {
        "id": "AcqeP2s6exzP",
        "colab_type": "code",
        "colab": {}
      },
      "source": [
        "X_train, X_test, y_train, y_test = train_test_split(X, y, test_size=0.2, random_state=0)\n",
        "print('X_train shape：',X_train.shape,' y_train shape：',y_train.shape,' X_test shape：',X_test.shape,' y_test shape：',y_test.shape)"
      ],
      "execution_count": 0,
      "outputs": []
    },
    {
      "cell_type": "code",
      "metadata": {
        "id": "h9auqr5MBPrD",
        "colab_type": "code",
        "colab": {}
      },
      "source": [
        "# 標準化\n",
        "sc = StandardScaler()\n",
        "X_train_std = sc.fit_transform(X_train)\n",
        "X_test_std = sc.transform(X_test)\n",
        "X_train_std[0]"
      ],
      "execution_count": 0,
      "outputs": []
    },
    {
      "cell_type": "code",
      "metadata": {
        "id": "sj40YexSVTpo",
        "colab_type": "code",
        "colab": {}
      },
      "source": [
        "# 線形回帰モデル\n",
        "model = LinearRegression()\n",
        "model.fit(X_train_std, y_train)"
      ],
      "execution_count": 0,
      "outputs": []
    },
    {
      "cell_type": "code",
      "metadata": {
        "id": "KKoX4n87_3DK",
        "colab_type": "code",
        "colab": {}
      },
      "source": [
        "print('傾き:', model.coef_)\n",
        "print('切片:', model.intercept_) "
      ],
      "execution_count": 0,
      "outputs": []
    },
    {
      "cell_type": "code",
      "metadata": {
        "id": "8pZ1AkU_k1kg",
        "colab_type": "code",
        "colab": {}
      },
      "source": [
        "# 住宅価格を予測\n",
        "y_train_pred = model.predict(X_train_std)\n",
        "y_test_pred = model.predict(X_test_std)\n",
        "\n",
        "print('MSE train: %.2f, test: %.2f' % (\n",
        "    np.mean((y_train - y_train_pred) ** 2),\n",
        "    np.mean((y_test - y_test_pred) ** 2)))"
      ],
      "execution_count": 0,
      "outputs": []
    },
    {
      "cell_type": "code",
      "metadata": {
        "id": "XcLaGaBOGZNO",
        "colab_type": "code",
        "colab": {}
      },
      "source": [
        "# MSEの計算\n",
        "print('MSE train: %.2f, test: %.2f' % (\n",
        "        mean_squared_error(y_train, y_train_pred),\n",
        "        mean_squared_error(y_test, y_test_pred)))"
      ],
      "execution_count": 0,
      "outputs": []
    },
    {
      "cell_type": "code",
      "metadata": {
        "id": "lJo6EI7Flcix",
        "colab_type": "code",
        "colab": {}
      },
      "source": [
        "# 残差プロット\n",
        "plt.figure(figsize=(8,4)) #プロットのサイズ指定\n",
        "\n",
        "plt.scatter(y_train_pred,  y_train_pred - y_train,\n",
        "            c='red', marker='o', edgecolor='white',\n",
        "            label='Training data')\n",
        "plt.scatter(y_test_pred,  y_test_pred - y_test,\n",
        "            c='blue', marker='s', edgecolor='white',\n",
        "            label='Test data')\n",
        "plt.xlabel('Predicted values')\n",
        "plt.ylabel('Residuals')\n",
        "plt.legend(loc='upper left')\n",
        "plt.hlines(y=0, xmin=-10, xmax=50, color='black', lw=2)\n",
        "plt.xlim([-10, 50])\n",
        "plt.tight_layout()\n",
        "\n",
        "plt.show()"
      ],
      "execution_count": 0,
      "outputs": []
    },
    {
      "cell_type": "code",
      "metadata": {
        "id": "urEno6WfsC9y",
        "colab_type": "code",
        "colab": {}
      },
      "source": [
        ""
      ],
      "execution_count": 0,
      "outputs": []
    }
  ]
}