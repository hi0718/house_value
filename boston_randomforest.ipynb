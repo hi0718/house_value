{
  "nbformat": 4,
  "nbformat_minor": 0,
  "metadata": {
    "colab": {
      "name": "boston_randomforest.ipynb",
      "provenance": [],
      "private_outputs": true,
      "collapsed_sections": []
    },
    "kernelspec": {
      "name": "python3",
      "display_name": "Python 3"
    },
    "accelerator": "GPU"
  },
  "cells": [
    {
      "cell_type": "code",
      "metadata": {
        "id": "q2p1g_5H7CeY",
        "colab_type": "code",
        "colab": {}
      },
      "source": [
        "%matplotlib inline\n",
        "import matplotlib.pyplot as plt\n",
        "import numpy as np\n",
        "from sklearn.ensemble import RandomForestRegressor\n",
        "from sklearn.model_selection import train_test_split\n",
        "from sklearn.metrics import mean_squared_error\n",
        "from sklearn.datasets import load_boston"
      ],
      "execution_count": 0,
      "outputs": []
    },
    {
      "cell_type": "code",
      "metadata": {
        "id": "InTlO8HO7Sq3",
        "colab_type": "code",
        "colab": {}
      },
      "source": [
        "boston = load_boston()\n",
        "X = boston.data\n",
        "y = boston.target\n",
        "\n",
        "X_train, X_test, y_train, y_test = train_test_split(X, y, test_size=0.2, random_state=0)\n",
        "print('X_train shape：',X_train.shape,' y_train shape：',y_train.shape,' X_test shape：',X_test.shape,' y_test shape：',y_test.shape)"
      ],
      "execution_count": 0,
      "outputs": []
    },
    {
      "cell_type": "code",
      "metadata": {
        "id": "uq_C3urX7ZK4",
        "colab_type": "code",
        "colab": {}
      },
      "source": [
        "# ランダムフォレスト回帰のモデルを作成\n",
        "model = RandomForestRegressor(bootstrap=True, n_estimators=1000, criterion='mse', max_depth=None, random_state=0, n_jobs=-1)\n",
        "\n",
        "model.fit(X_train, y_train)"
      ],
      "execution_count": 0,
      "outputs": []
    },
    {
      "cell_type": "code",
      "metadata": {
        "id": "gA7WTgEA73X9",
        "colab_type": "code",
        "colab": {}
      },
      "source": [
        "y_train_pred = model.predict(X_train)\n",
        "y_test_pred = model.predict(X_test)\n",
        "\n",
        "print('MSE train: %.2f, test: %.2f' % (\n",
        "        mean_squared_error(y_train, y_train_pred),\n",
        "        mean_squared_error(y_test, y_test_pred)))"
      ],
      "execution_count": 0,
      "outputs": []
    },
    {
      "cell_type": "code",
      "metadata": {
        "id": "uk_0ucWq0pgO",
        "colab_type": "code",
        "colab": {}
      },
      "source": [
        "# 残差プロット\n",
        "plt.figure(figsize=(8,4)) \n",
        "\n",
        "plt.scatter(y_train_pred,  y_train_pred - y_train,\n",
        "            c='red', marker='o', edgecolor='white',\n",
        "            label='Training data')\n",
        "plt.scatter(y_test_pred,  y_test_pred - y_test,\n",
        "            c='blue', marker='s', edgecolor='white',\n",
        "            label='Test data')\n",
        "plt.xlabel('Predicted values')\n",
        "plt.ylabel('Residuals')\n",
        "plt.legend(loc='upper left')\n",
        "plt.hlines(y=0, xmin=-10, xmax=50, color='black', lw=2)\n",
        "plt.xlim([-10, 50])\n",
        "plt.tight_layout()\n",
        "\n",
        "plt.show()"
      ],
      "execution_count": 0,
      "outputs": []
    },
    {
      "cell_type": "code",
      "metadata": {
        "id": "JMAqYFx_8A_t",
        "colab_type": "code",
        "colab": {}
      },
      "source": [
        "# 特徴量重要度\n",
        "model.feature_importances_"
      ],
      "execution_count": 0,
      "outputs": []
    },
    {
      "cell_type": "code",
      "metadata": {
        "id": "prQvaP7y8vxb",
        "colab_type": "code",
        "colab": {}
      },
      "source": [
        "# 特徴量重要性を計算\n",
        "importances = model.feature_importances_\n",
        "\n",
        "# 特徴量重要性を降順にソート\n",
        "indices = np.argsort(importances)[::-1]\n",
        "\n",
        "# 特徴量の名前をソートした順に並び替え\n",
        "names = [boston.feature_names[i] for i in indices]\n",
        "\n",
        "# プロットの作成\n",
        "plt.figure(figsize=(8,4)) #プロットのサイズ指定\n",
        "plt.title(\"Feature Importance\")\n",
        "plt.bar(range(X.shape[1]), importances[indices])\n",
        "plt.xticks(range(X.shape[1]), names, rotation=90)\n",
        "\n",
        "plt.show()"
      ],
      "execution_count": 0,
      "outputs": []
    },
    {
      "cell_type": "code",
      "metadata": {
        "id": "Gw2pEnGY95vF",
        "colab_type": "code",
        "colab": {}
      },
      "source": [
        ""
      ],
      "execution_count": 0,
      "outputs": []
    }
  ]
}