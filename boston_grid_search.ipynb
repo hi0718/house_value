{
  "nbformat": 4,
  "nbformat_minor": 0,
  "metadata": {
    "colab": {
      "name": "boston_grid_search.ipynb",
      "provenance": [],
      "private_outputs": true,
      "collapsed_sections": []
    },
    "kernelspec": {
      "name": "python3",
      "display_name": "Python 3"
    },
    "accelerator": "GPU"
  },
  "cells": [
    {
      "cell_type": "code",
      "metadata": {
        "id": "R-4j0Y0vt37w",
        "colab_type": "code",
        "colab": {}
      },
      "source": [
        "%matplotlib inline\n",
        "import matplotlib.pyplot as plt\n",
        "import numpy as np\n",
        "import pandas as pd\n",
        "from sklearn.svm import SVR\n",
        "from sklearn.preprocessing import StandardScaler\n",
        "from sklearn.model_selection import train_test_split\n",
        "from sklearn.metrics import mean_squared_error\n",
        "from sklearn.datasets import load_boston\n",
        "from sklearn.model_selection import GridSearchCV"
      ],
      "execution_count": 0,
      "outputs": []
    },
    {
      "cell_type": "code",
      "metadata": {
        "id": "Ei6viHN8xM1h",
        "colab_type": "code",
        "colab": {}
      },
      "source": [
        "boston = load_boston()\n",
        "X = boston.data\n",
        "y = boston.target\n",
        "\n",
        "X_train, X_test, y_train, y_test = train_test_split(X, y, test_size=0.2, random_state=0)\n",
        "print('X_train shape：',X_train.shape,' y_train shape：',y_train.shape,' X_test shape：',X_test.shape,' y_test shape：',y_test.shape)"
      ],
      "execution_count": 0,
      "outputs": []
    },
    {
      "cell_type": "code",
      "metadata": {
        "id": "3MXDiKUQcNBn",
        "colab_type": "code",
        "colab": {}
      },
      "source": [
        "# 標準化\n",
        "sc = StandardScaler()\n",
        "X_train_std = sc.fit_transform(X_train)\n",
        "X_test_std = sc.transform(X_test)"
      ],
      "execution_count": 0,
      "outputs": []
    },
    {
      "cell_type": "code",
      "metadata": {
        "id": "_7lMuBwFxzqW",
        "colab_type": "code",
        "colab": {}
      },
      "source": [
        "# グリッドサーチの実行\n",
        "param_grid = [\n",
        "        {'kernel': ['rbf'], 'C': [1.0, 3.0, 10., 30., 100., 300., 1000.0],\n",
        "         'gamma': [0.01, 0.03, 0.1, 0.3, 1.0, 3.0], \n",
        "         'epsilon': [0.01, 0.03, 0.1, 0.3, 1.0, 3.0]\n",
        "        }\n",
        "    ]\n",
        "\n",
        "model = SVR()\n",
        "grid_search = GridSearchCV(model, param_grid, cv=5, scoring='neg_mean_squared_error', verbose=2, n_jobs=-1)\n",
        "grid_search.fit(X_train_std, y_train)"
      ],
      "execution_count": 0,
      "outputs": []
    },
    {
      "cell_type": "code",
      "metadata": {
        "id": "57nz2splyHIJ",
        "colab_type": "code",
        "colab": {}
      },
      "source": [
        "-(grid_search.best_score_)"
      ],
      "execution_count": 0,
      "outputs": []
    },
    {
      "cell_type": "code",
      "metadata": {
        "id": "5ro34o89xFsO",
        "colab_type": "code",
        "colab": {}
      },
      "source": [
        "print(grid_search.best_params_)\n",
        "print(grid_search.best_estimator_)"
      ],
      "execution_count": 0,
      "outputs": []
    },
    {
      "cell_type": "code",
      "metadata": {
        "id": "YmaQDphEx-Cv",
        "colab_type": "code",
        "colab": {}
      },
      "source": [
        "# グリッドサーチの最良モデルで予測\n",
        "model_grs = grid_search.best_estimator_\n",
        "y_train_grs_pred = model_grs.predict(X_train_std)\n",
        "y_test_grs_pred = model_grs.predict(X_test_std)\n",
        "\n",
        "print('MSE train: %.2f, test: %.2f' % (\n",
        "        mean_squared_error(y_train, y_train_grs_pred),\n",
        "        mean_squared_error(y_test, y_test_grs_pred)))"
      ],
      "execution_count": 0,
      "outputs": []
    },
    {
      "cell_type": "code",
      "metadata": {
        "id": "JZ4_0GP1zfe_",
        "colab_type": "code",
        "colab": {}
      },
      "source": [
        "# 残差プロット\n",
        "plt.figure(figsize=(8,4))\n",
        "\n",
        "plt.scatter(y_train_grs_pred,  y_train_grs_pred - y_train,\n",
        "            c='red', marker='o', edgecolor='white',\n",
        "            label='Training data')\n",
        "plt.scatter(y_test_grs_pred,  y_test_grs_pred - y_test,\n",
        "            c='blue', marker='s', edgecolor='white',\n",
        "            label='Test data')\n",
        "plt.xlabel('Predicted values')\n",
        "plt.ylabel('Residuals')\n",
        "plt.legend(loc='upper left')\n",
        "plt.hlines(y=0, xmin=-10, xmax=50, color='black', lw=2)\n",
        "plt.xlim([-10, 50])\n",
        "plt.tight_layout()\n",
        "\n",
        "plt.show()"
      ],
      "execution_count": 0,
      "outputs": []
    },
    {
      "cell_type": "code",
      "metadata": {
        "id": "T-6oC0oGzfmZ",
        "colab_type": "code",
        "colab": {}
      },
      "source": [
        ""
      ],
      "execution_count": 0,
      "outputs": []
    }
  ]
}